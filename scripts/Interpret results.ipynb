{
 "cells": [
  {
   "cell_type": "code",
   "execution_count": 76,
   "metadata": {},
   "outputs": [],
   "source": [
    "%config InlineBackend.figure_format = 'retina'\n",
    "import numpy as np\n",
    "import pandas as pd\n",
    "\n",
    "from sentence_transformers import SentenceTransformer\n",
    "from scipy.stats import multinomial\n",
    "\n",
    "import matplotlib.pyplot as plt\n",
    "import collections"
   ]
  },
  {
   "attachments": {},
   "cell_type": "markdown",
   "metadata": {},
   "source": [
    "# Sentence-BERT model"
   ]
  },
  {
   "cell_type": "code",
   "execution_count": null,
   "metadata": {},
   "outputs": [],
   "source": [
    "df = pd.read_csv('../data/interim/testset2.csv')\n",
    "model = SentenceTransformer('all-mpnet-base-v2', device='cuda:0')\n",
    "\n",
    "sentences = [f'A photo of a {word}' for word in df.word0.values]\n",
    "embeddings0 = model.encode(sentences)\n",
    "\n",
    "sentences = [f'A photo of a {word}' for word in df.word1.values]\n",
    "embeddings1 = model.encode(sentences)\n",
    "\n",
    "sentences = [f'A photo of a {word}' for word in df.word2.values]\n",
    "embeddings2 = model.encode(sentences)\n",
    "\n",
    "sim2 = (embeddings0 * embeddings1).sum(axis=1)\n",
    "sim1 = (embeddings0 * embeddings2).sum(axis=1)\n",
    "sim0 = (embeddings1 * embeddings2).sum(axis=1)\n",
    "\n",
    "odd_one_out = np.stack([sim0, sim1, sim2], axis=1).argmax(axis=1)\n",
    "odd_one_out\n",
    "\n",
    "(df['best_answer'] == odd_one_out).mean()"
   ]
  },
  {
   "attachments": {},
   "cell_type": "markdown",
   "metadata": {},
   "source": [
    "# GPT3.5 model"
   ]
  },
  {
   "cell_type": "code",
   "execution_count": 3,
   "metadata": {},
   "outputs": [
    {
     "name": "stdout",
     "output_type": "stream",
     "text": [
      "0.103\n",
      "0.620958751393534\n",
      "0.557\n"
     ]
    }
   ],
   "source": [
    "method = 'chain'\n",
    "\n",
    "vals = []\n",
    "for order in range(3):\n",
    "    df = pd.read_csv(f'../results/testset2_chat_gpt-3.5-turbo_{method}_{order}.csv')\n",
    "    vals.append(df['gpt-3.5-turbo'].values)\n",
    "\n",
    "\n",
    "majorities = []\n",
    "for ans in zip(*vals):\n",
    "    # Count the most frquent answer\n",
    "    ans = np.array(ans)\n",
    "    # If no majority vote, then choose the most frequent answer\n",
    "    majority = -1\n",
    "    for i in range(3):\n",
    "        if (ans == i).sum() >= 2:\n",
    "            # Majority vote\n",
    "            majority = i\n",
    "            break\n",
    "    majorities.append(majority)\n",
    "\n",
    "df['majority'] = majorities\n",
    "\n",
    "selected = df['majority'] != -1\n",
    "\n",
    "print((df['majority'] == -1).mean())\n",
    "print((df['majority'] == df['best_answer'])[selected].mean())\n",
    "print((df['majority'] == df['best_answer']).mean())"
   ]
  },
  {
   "attachments": {},
   "cell_type": "markdown",
   "metadata": {},
   "source": [
    "# GPT-4"
   ]
  },
  {
   "cell_type": "code",
   "execution_count": 41,
   "metadata": {},
   "outputs": [
    {
     "name": "stdout",
     "output_type": "stream",
     "text": [
      "../results/testset2_chat_gpt-4_chain_0.csv\n",
      "1    396\n",
      "0    371\n",
      "2    233\n",
      "Name: gpt-4, dtype: int64\n"
     ]
    },
    {
     "data": {
      "text/plain": [
       "0.636"
      ]
     },
     "execution_count": 41,
     "metadata": {},
     "output_type": "execute_result"
    }
   ],
   "source": [
    "methods = ['direct', 'chain', 'pairs', 'rubric', 'visual']\n",
    "method = methods[1]\n",
    "model = 'gpt-4'\n",
    "\n",
    "dataset = f'../results/testset2_chat_{model}_{method}_0.csv'\n",
    "print(dataset)\n",
    "df = pd.read_csv(dataset)\n",
    "val0 = df[model]\n",
    "\n",
    "print(val0.value_counts())\n",
    "(df['best_answer'] == val0).mean()"
   ]
  },
  {
   "attachments": {},
   "cell_type": "markdown",
   "metadata": {},
   "source": [
    "## Examine some of the differences"
   ]
  },
  {
   "cell_type": "code",
   "execution_count": 17,
   "metadata": {},
   "outputs": [
    {
     "data": {
      "text/html": [
       "<div>\n",
       "<style scoped>\n",
       "    .dataframe tbody tr th:only-of-type {\n",
       "        vertical-align: middle;\n",
       "    }\n",
       "\n",
       "    .dataframe tbody tr th {\n",
       "        vertical-align: top;\n",
       "    }\n",
       "\n",
       "    .dataframe thead th {\n",
       "        text-align: right;\n",
       "    }\n",
       "</style>\n",
       "<table border=\"1\" class=\"dataframe\">\n",
       "  <thead>\n",
       "    <tr style=\"text-align: right;\">\n",
       "      <th></th>\n",
       "      <th>Unnamed: 0</th>\n",
       "      <th>c0</th>\n",
       "      <th>c1</th>\n",
       "      <th>c2</th>\n",
       "      <th>im0_chosen</th>\n",
       "      <th>im1_chosen</th>\n",
       "      <th>im2_chosen</th>\n",
       "      <th>word0</th>\n",
       "      <th>word1</th>\n",
       "      <th>word2</th>\n",
       "      <th>best_answer</th>\n",
       "      <th>gpt-4</th>\n",
       "      <th>gpt-4_reasoning</th>\n",
       "    </tr>\n",
       "  </thead>\n",
       "  <tbody>\n",
       "    <tr>\n",
       "      <th>39</th>\n",
       "      <td>39</td>\n",
       "      <td>25295</td>\n",
       "      <td>18829</td>\n",
       "      <td>8506</td>\n",
       "      <td>3</td>\n",
       "      <td>30</td>\n",
       "      <td>5</td>\n",
       "      <td>anchor</td>\n",
       "      <td>banana peel</td>\n",
       "      <td>recorder</td>\n",
       "      <td>1</td>\n",
       "      <td>0</td>\n",
       "      <td>1. Anchor: heavy, metal, used for holding boat...</td>\n",
       "    </tr>\n",
       "    <tr>\n",
       "      <th>74</th>\n",
       "      <td>74</td>\n",
       "      <td>22925</td>\n",
       "      <td>21341</td>\n",
       "      <td>4184</td>\n",
       "      <td>34</td>\n",
       "      <td>0</td>\n",
       "      <td>4</td>\n",
       "      <td>ashtray</td>\n",
       "      <td>easter egg</td>\n",
       "      <td>goldfish</td>\n",
       "      <td>0</td>\n",
       "      <td>2</td>\n",
       "      <td>Step 1: Identify similarities and differences ...</td>\n",
       "    </tr>\n",
       "    <tr>\n",
       "      <th>87</th>\n",
       "      <td>87</td>\n",
       "      <td>14950</td>\n",
       "      <td>17107</td>\n",
       "      <td>27925</td>\n",
       "      <td>0</td>\n",
       "      <td>37</td>\n",
       "      <td>2</td>\n",
       "      <td>badge</td>\n",
       "      <td>green beans</td>\n",
       "      <td>hearse</td>\n",
       "      <td>1</td>\n",
       "      <td>0</td>\n",
       "      <td>Step 1: Compare objects 1 and 2 (badge and gre...</td>\n",
       "    </tr>\n",
       "    <tr>\n",
       "      <th>104</th>\n",
       "      <td>104</td>\n",
       "      <td>35746</td>\n",
       "      <td>33487</td>\n",
       "      <td>2815</td>\n",
       "      <td>37</td>\n",
       "      <td>1</td>\n",
       "      <td>0</td>\n",
       "      <td>banana</td>\n",
       "      <td>crow</td>\n",
       "      <td>scorpion</td>\n",
       "      <td>0</td>\n",
       "      <td>1</td>\n",
       "      <td>Step 1: Compare the objects in pairs\\n- 1 (ban...</td>\n",
       "    </tr>\n",
       "    <tr>\n",
       "      <th>116</th>\n",
       "      <td>116</td>\n",
       "      <td>16930</td>\n",
       "      <td>16110</td>\n",
       "      <td>9494</td>\n",
       "      <td>6</td>\n",
       "      <td>26</td>\n",
       "      <td>2</td>\n",
       "      <td>barcode</td>\n",
       "      <td>cart</td>\n",
       "      <td>laptop</td>\n",
       "      <td>1</td>\n",
       "      <td>0</td>\n",
       "      <td>Step 1: Comparing object 1 (barcode) with obje...</td>\n",
       "    </tr>\n",
       "    <tr>\n",
       "      <th>117</th>\n",
       "      <td>117</td>\n",
       "      <td>12356</td>\n",
       "      <td>12138</td>\n",
       "      <td>47606</td>\n",
       "      <td>1</td>\n",
       "      <td>0</td>\n",
       "      <td>34</td>\n",
       "      <td>barcode</td>\n",
       "      <td>filter</td>\n",
       "      <td>seal</td>\n",
       "      <td>2</td>\n",
       "      <td>0</td>\n",
       "      <td>Step 1: Analyze the objects and their purpose....</td>\n",
       "    </tr>\n",
       "    <tr>\n",
       "      <th>120</th>\n",
       "      <td>120</td>\n",
       "      <td>29966</td>\n",
       "      <td>40230</td>\n",
       "      <td>37326</td>\n",
       "      <td>4</td>\n",
       "      <td>33</td>\n",
       "      <td>0</td>\n",
       "      <td>bark</td>\n",
       "      <td>parrot</td>\n",
       "      <td>tree</td>\n",
       "      <td>1</td>\n",
       "      <td>0</td>\n",
       "      <td>Step 1: Identify the properties of each object...</td>\n",
       "    </tr>\n",
       "    <tr>\n",
       "      <th>125</th>\n",
       "      <td>125</td>\n",
       "      <td>24314</td>\n",
       "      <td>29128</td>\n",
       "      <td>12323</td>\n",
       "      <td>27</td>\n",
       "      <td>2</td>\n",
       "      <td>6</td>\n",
       "      <td>barrel</td>\n",
       "      <td>blinder</td>\n",
       "      <td>tiger</td>\n",
       "      <td>0</td>\n",
       "      <td>2</td>\n",
       "      <td>Step 1: Analyze the three objects:\\n1: barrel ...</td>\n",
       "    </tr>\n",
       "    <tr>\n",
       "      <th>148</th>\n",
       "      <td>148</td>\n",
       "      <td>47706</td>\n",
       "      <td>43611</td>\n",
       "      <td>10026</td>\n",
       "      <td>30</td>\n",
       "      <td>6</td>\n",
       "      <td>1</td>\n",
       "      <td>baton</td>\n",
       "      <td>leopard</td>\n",
       "      <td>tumbleweed</td>\n",
       "      <td>0</td>\n",
       "      <td>1</td>\n",
       "      <td>Step 1: Identify the key features of each obje...</td>\n",
       "    </tr>\n",
       "    <tr>\n",
       "      <th>191</th>\n",
       "      <td>191</td>\n",
       "      <td>30938</td>\n",
       "      <td>35452</td>\n",
       "      <td>6258</td>\n",
       "      <td>33</td>\n",
       "      <td>2</td>\n",
       "      <td>1</td>\n",
       "      <td>bell pepper</td>\n",
       "      <td>curling iron</td>\n",
       "      <td>shower curtain</td>\n",
       "      <td>0</td>\n",
       "      <td>1</td>\n",
       "      <td>Step 1: Identify the characteristics of each o...</td>\n",
       "    </tr>\n",
       "    <tr>\n",
       "      <th>192</th>\n",
       "      <td>192</td>\n",
       "      <td>20637</td>\n",
       "      <td>17490</td>\n",
       "      <td>5721</td>\n",
       "      <td>32</td>\n",
       "      <td>3</td>\n",
       "      <td>1</td>\n",
       "      <td>belt</td>\n",
       "      <td>coral</td>\n",
       "      <td>gondola</td>\n",
       "      <td>0</td>\n",
       "      <td>1</td>\n",
       "      <td>Step 1: Identify the objects - 1: Belt, 2: Cor...</td>\n",
       "    </tr>\n",
       "    <tr>\n",
       "      <th>216</th>\n",
       "      <td>216</td>\n",
       "      <td>36567</td>\n",
       "      <td>49469</td>\n",
       "      <td>12495</td>\n",
       "      <td>29</td>\n",
       "      <td>6</td>\n",
       "      <td>2</td>\n",
       "      <td>bison</td>\n",
       "      <td>knitting</td>\n",
       "      <td>thermometer</td>\n",
       "      <td>0</td>\n",
       "      <td>2</td>\n",
       "      <td>Step 1: Analyze the objects.\\n1: bison (an ani...</td>\n",
       "    </tr>\n",
       "    <tr>\n",
       "      <th>235</th>\n",
       "      <td>235</td>\n",
       "      <td>33818</td>\n",
       "      <td>33713</td>\n",
       "      <td>6557</td>\n",
       "      <td>5</td>\n",
       "      <td>31</td>\n",
       "      <td>0</td>\n",
       "      <td>boar</td>\n",
       "      <td>brace</td>\n",
       "      <td>trough</td>\n",
       "      <td>1</td>\n",
       "      <td>0</td>\n",
       "      <td>Step 1: Analyze the objects\\n1: boar - a type ...</td>\n",
       "    </tr>\n",
       "    <tr>\n",
       "      <th>243</th>\n",
       "      <td>243</td>\n",
       "      <td>27649</td>\n",
       "      <td>31429</td>\n",
       "      <td>12221</td>\n",
       "      <td>29</td>\n",
       "      <td>3</td>\n",
       "      <td>5</td>\n",
       "      <td>bok choy</td>\n",
       "      <td>fire</td>\n",
       "      <td>pinball</td>\n",
       "      <td>0</td>\n",
       "      <td>1</td>\n",
       "      <td>Step 1: Analyzing the objects\\n- Bok choy is a...</td>\n",
       "    </tr>\n",
       "    <tr>\n",
       "      <th>252</th>\n",
       "      <td>252</td>\n",
       "      <td>43120</td>\n",
       "      <td>33984</td>\n",
       "      <td>9032</td>\n",
       "      <td>29</td>\n",
       "      <td>7</td>\n",
       "      <td>1</td>\n",
       "      <td>bonnet</td>\n",
       "      <td>clasp</td>\n",
       "      <td>whisk</td>\n",
       "      <td>0</td>\n",
       "      <td>2</td>\n",
       "      <td>Step 1: Analyze the three objects provided.\\n1...</td>\n",
       "    </tr>\n",
       "  </tbody>\n",
       "</table>\n",
       "</div>"
      ],
      "text/plain": [
       "     Unnamed: 0     c0     c1     c2  im0_chosen  im1_chosen  im2_chosen  \\\n",
       "39           39  25295  18829   8506           3          30           5   \n",
       "74           74  22925  21341   4184          34           0           4   \n",
       "87           87  14950  17107  27925           0          37           2   \n",
       "104         104  35746  33487   2815          37           1           0   \n",
       "116         116  16930  16110   9494           6          26           2   \n",
       "117         117  12356  12138  47606           1           0          34   \n",
       "120         120  29966  40230  37326           4          33           0   \n",
       "125         125  24314  29128  12323          27           2           6   \n",
       "148         148  47706  43611  10026          30           6           1   \n",
       "191         191  30938  35452   6258          33           2           1   \n",
       "192         192  20637  17490   5721          32           3           1   \n",
       "216         216  36567  49469  12495          29           6           2   \n",
       "235         235  33818  33713   6557           5          31           0   \n",
       "243         243  27649  31429  12221          29           3           5   \n",
       "252         252  43120  33984   9032          29           7           1   \n",
       "\n",
       "           word0         word1           word2  best_answer  gpt-4  \\\n",
       "39        anchor   banana peel        recorder            1      0   \n",
       "74       ashtray    easter egg        goldfish            0      2   \n",
       "87         badge   green beans          hearse            1      0   \n",
       "104       banana          crow        scorpion            0      1   \n",
       "116      barcode          cart          laptop            1      0   \n",
       "117      barcode        filter            seal            2      0   \n",
       "120         bark        parrot            tree            1      0   \n",
       "125       barrel       blinder           tiger            0      2   \n",
       "148        baton       leopard      tumbleweed            0      1   \n",
       "191  bell pepper  curling iron  shower curtain            0      1   \n",
       "192         belt         coral         gondola            0      1   \n",
       "216        bison      knitting     thermometer            0      2   \n",
       "235         boar         brace          trough            1      0   \n",
       "243     bok choy          fire         pinball            0      1   \n",
       "252       bonnet         clasp           whisk            0      2   \n",
       "\n",
       "                                       gpt-4_reasoning  \n",
       "39   1. Anchor: heavy, metal, used for holding boat...  \n",
       "74   Step 1: Identify similarities and differences ...  \n",
       "87   Step 1: Compare objects 1 and 2 (badge and gre...  \n",
       "104  Step 1: Compare the objects in pairs\\n- 1 (ban...  \n",
       "116  Step 1: Comparing object 1 (barcode) with obje...  \n",
       "117  Step 1: Analyze the objects and their purpose....  \n",
       "120  Step 1: Identify the properties of each object...  \n",
       "125  Step 1: Analyze the three objects:\\n1: barrel ...  \n",
       "148  Step 1: Identify the key features of each obje...  \n",
       "191  Step 1: Identify the characteristics of each o...  \n",
       "192  Step 1: Identify the objects - 1: Belt, 2: Cor...  \n",
       "216  Step 1: Analyze the objects.\\n1: bison (an ani...  \n",
       "235  Step 1: Analyze the objects\\n1: boar - a type ...  \n",
       "243  Step 1: Analyzing the objects\\n- Bok choy is a...  \n",
       "252  Step 1: Analyze the three objects provided.\\n1...  "
      ]
     },
     "execution_count": 17,
     "metadata": {},
     "output_type": "execute_result"
    }
   ],
   "source": [
    "A = np.stack([df.im0_chosen.values, \n",
    "              df.im1_chosen.values, \n",
    "              df.im2_chosen.values], axis=1)\n",
    "the_max = np.max(A, axis=1)\n",
    "the_sum = np.sum(A, axis=1)\n",
    "non_controversy = (the_max / the_sum) > .75\n",
    "the_max.shape\n",
    "df[(df['best_answer'] != val0) & non_controversy].head(15)"
   ]
  },
  {
   "attachments": {},
   "cell_type": "markdown",
   "metadata": {},
   "source": [
    "# GPT-4 calibration"
   ]
  },
  {
   "cell_type": "code",
   "execution_count": 68,
   "metadata": {},
   "outputs": [],
   "source": [
    "methods = ['direct', 'chain', 'pairs', 'rubric', 'visual']\n",
    "method = methods[1]\n",
    "model = 'gpt-4'\n",
    "\n",
    "vals = []\n",
    "for order in range(12):\n",
    "    dataset = f'../results/testset2_chat_{model}_{method}_{order}.csv'\n",
    "    df = pd.read_csv(dataset)\n",
    "    df = df.loc[:100]\n",
    "\n",
    "    vals.append(df[model].values)\n",
    "\n",
    "V = np.stack(vals, axis=1)"
   ]
  },
  {
   "cell_type": "code",
   "execution_count": 69,
   "metadata": {},
   "outputs": [
    {
     "data": {
      "text/plain": [
       "0.7425742574257426"
      ]
     },
     "execution_count": 69,
     "metadata": {},
     "output_type": "execute_result"
    }
   ],
   "source": [
    "# Calculate the most frequent value along the second axis\n",
    "most_frequent = np.apply_along_axis(lambda x: np.bincount(x).argmax(), 1, V)\n",
    "\n",
    "(most_frequent == df.best_answer).mean()"
   ]
  },
  {
   "cell_type": "code",
   "execution_count": 72,
   "metadata": {},
   "outputs": [],
   "source": [
    "# Calculate the most frequent value along the second axis, sampling between 1 and 6 columns\n",
    "scores = collections.defaultdict(list)\n",
    "for num in range(2 ** 12):\n",
    "    mask = np.zeros(12, dtype=bool)\n",
    "    for i in range(12):\n",
    "        is_good = (num >> (11 - i)) & 1\n",
    "        if is_good:\n",
    "            mask[i] = True\n",
    "\n",
    "    if all(mask == False):\n",
    "        continue\n",
    "\n",
    "    most_frequent = np.apply_along_axis(lambda x: np.bincount(x).argmax(), 1, V[:, mask])\n",
    "    scores[mask.sum()].append((most_frequent == df.best_answer).mean())\n",
    "\n",
    "\n",
    "x = []\n",
    "y = []\n",
    "s = []\n",
    "for k, v in scores.items():\n",
    "    x.append(k)\n",
    "    y.append(np.mean(v))\n",
    "    s.append(np.std(v))\n",
    "\n",
    "x = np.array(x)\n",
    "y = np.array(y)\n",
    "s = np.array(s)"
   ]
  },
  {
   "cell_type": "code",
   "execution_count": 86,
   "metadata": {},
   "outputs": [
    {
     "data": {
      "text/plain": [
       "Text(0.5, 1.0, 'GPT-4 scaling with number of samples')"
      ]
     },
     "execution_count": 86,
     "metadata": {},
     "output_type": "execute_result"
    },
    {
     "data": {
      "image/png": "[encoded data removed]",
      "text/plain": [
       "<Figure size 500x400 with 1 Axes>"
      ]
     },
     "metadata": {
      "image/png": {
       "height": 392,
       "width": 467
      }
     },
     "output_type": "display_data"
    }
   ],
   "source": [
    "plt.figure(figsize=(5, 4))\n",
    "plt.fill_between(x, y + s, y - s, alpha=.2)\n",
    "plt.plot(x, y)\n",
    "plt.xlabel('Number of repeats')\n",
    "plt.ylabel('Accuracy')\n",
    "plt.box('off')\n",
    "plt.title('GPT-4 scaling with number of samples')"
   ]
  },
  {
   "attachments": {},
   "cell_type": "markdown",
   "metadata": {},
   "source": [
    "## Estimate oracle score\n",
    "\n",
    "Method 1: estimate the sampling noise using a multinomial model."
   ]
  },
  {
   "cell_type": "code",
   "execution_count": 5,
   "metadata": {},
   "outputs": [
    {
     "name": "stdout",
     "output_type": "stream",
     "text": [
      "0.9253000000000003 0.005577633906953741\n"
     ]
    }
   ],
   "source": [
    "# Evaluate best possible answer combo.\n",
    "nboot = 100\n",
    "P = df[['im0_chosen', 'im1_chosen', 'im2_chosen']].values\n",
    "N_total = P.sum(axis=1)\n",
    "P = P / P.sum(axis=1, keepdims=True)\n",
    "\n",
    "samples = []\n",
    "for i in range(1000):\n",
    "    samples.append(np.argmax(multinomial.rvs(N_total[i], P[i, :], size=100), axis=1))\n",
    "the_ceil = (df.best_answer.values.reshape((-1, 1)) == np.array(samples)).mean(axis=0)\n",
    "print(the_ceil.mean(), the_ceil.std())"
   ]
  },
  {
   "attachments": {},
   "cell_type": "markdown",
   "metadata": {},
   "source": [
    "Method 2: estimate the sampling noise by looking at the repeats of the same set."
   ]
  },
  {
   "cell_type": "code",
   "execution_count": 19,
   "metadata": {},
   "outputs": [
    {
     "data": {
      "text/plain": [
       "0.94"
      ]
     },
     "execution_count": 19,
     "metadata": {},
     "output_type": "execute_result"
    }
   ],
   "source": [
    "df0 = pd.read_csv('../data/interim/testset2.csv')\n",
    "df1 = pd.read_csv('../data/interim/testset2_repeat.csv')\n",
    "\n",
    "(df0.best_answer == df1.best_answer).mean()"
   ]
  }
 ],
 "metadata": {
  "kernelspec": {
   "display_name": "py3",
   "language": "python",
   "name": "python3"
  },
  "language_info": {
   "codemirror_mode": {
    "name": "ipython",
    "version": 3
   },
   "file_extension": ".py",
   "mimetype": "text/x-python",
   "name": "python",
   "nbconvert_exporter": "python",
   "pygments_lexer": "ipython3",
   "version": "3.9.16"
  },
  "orig_nbformat": 4
 },
 "nbformat": 4,
 "nbformat_minor": 2
}
